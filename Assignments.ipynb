{
 "cells": [
  {
   "cell_type": "markdown",
   "metadata": {},
   "source": [
    "# **Basic Python**"
   ]
  },
  {
   "cell_type": "markdown",
   "metadata": {},
   "source": [
    "## 1.a \n",
    "Give a function F that takes a single argument n. This function should print a sequence of n strings as described in the examples below: <br>\n",
    "Ex: **n = 3**\n",
    "\n",
    "--A--<br>\n",
    "-BAB-<br>\n",
    "CBABC<br>\n",
    "\n",
    "**n = 4**\n",
    "\n",
    "---A---<br>\n",
    "--BAB--<br>\n",
    "-CBABC-<br>\n",
    "DCBABCD"
   ]
  },
  {
   "cell_type": "code",
   "execution_count": 1,
   "metadata": {},
   "outputs": [
    {
     "name": "stdout",
     "output_type": "stream",
     "text": [
      "---------A---------\n",
      "--------BAB--------\n",
      "-------CBABC-------\n",
      "------DCBABCD------\n",
      "-----EDCBABCDE-----\n",
      "----FEDCBABCDEF----\n",
      "---GFEDCBABCDEFG---\n",
      "--HGFEDCBABCDEFGH--\n",
      "-IHGFEDCBABCDEFGHI-\n",
      "JIHGFEDCBABCDEFGHIJ\n",
      "-----A-----\n",
      "----BAB----\n",
      "---CBABC---\n",
      "--DCBABCD--\n",
      "-EDCBABCDE-\n",
      "FEDCBABCDEF\n"
     ]
    }
   ],
   "source": [
    "def F(n):\n",
    "    for i in range(n):\n",
    "        pad = '-' * (n - 1 - i)\n",
    "        inn = \"\"\n",
    "        for j in range(2 * i + 1):\n",
    "            char = chr(ord('A') + abs(i - j))\n",
    "            inn += char\n",
    "        print(pad + inn + pad)\n",
    "\n",
    "# Tests\n",
    "F(10)\n",
    "F(6)\n"
   ]
  },
  {
   "cell_type": "markdown",
   "metadata": {},
   "source": [
    "## 1.b\n",
    "Make a function F that takes only one argument, a dictionary(dict) d.\n",
    "The keys of d are integers and the values of d are a tuple of type (x (int), y (int)).\n",
    "You must print out the dict in the format \"-key-, -x-, -y-\" with each entry in a new line. Print it for each of the three sorted orders, by key values ascending, by x values descending, by y values ascending."
   ]
  },
  {
   "cell_type": "code",
   "execution_count": 2,
   "metadata": {},
   "outputs": [
    {
     "name": "stdout",
     "output_type": "stream",
     "text": [
      "Sorted by keys (ascending):\n",
      "-1-, -1-, -2-\n",
      "-2-, --1-, -4-\n",
      "-4-, -2-, -3-\n",
      "-5-, --4-, -3-\n",
      "\n",
      "Sorted by x values (descending):\n",
      "-4-, -2-, -3-\n",
      "-1-, -1-, -2-\n",
      "-2-, --1-, -4-\n",
      "-5-, --4-, -3-\n",
      "\n",
      "Sorted by y values (ascending):\n",
      "-1-, -1-, -2-\n",
      "-5-, --4-, -3-\n",
      "-4-, -2-, -3-\n",
      "-2-, --1-, -4-\n",
      "Sorted by keys (ascending):\n",
      "--8-, -4-, -2-\n",
      "-5-, -9-, --10-\n",
      "-6-, --3-, -4-\n",
      "-7-, -2-, -1-\n",
      "\n",
      "Sorted by x values (descending):\n",
      "-5-, -9-, --10-\n",
      "--8-, -4-, -2-\n",
      "-7-, -2-, -1-\n",
      "-6-, --3-, -4-\n",
      "\n",
      "Sorted by y values (ascending):\n",
      "-5-, -9-, --10-\n",
      "-7-, -2-, -1-\n",
      "--8-, -4-, -2-\n",
      "-6-, --3-, -4-\n"
     ]
    }
   ],
   "source": [
    "\n",
    "def F(d):\n",
    "    print(\"Sorted by keys (ascending):\")\n",
    "    for key in sorted(d):\n",
    "        x, y = d[key]\n",
    "        print(f\"-{key}-, -{x}-, -{y}-\")\n",
    "    print()\n",
    "    print(\"Sorted by x values (descending):\")\n",
    "    for key, (x, y) in sorted(d.items(), key=lambda item: item[1][0], reverse=True):\n",
    "        print(f\"-{key}-, -{x}-, -{y}-\")\n",
    "    print()  \n",
    "    print(\"Sorted by y values (ascending):\")\n",
    "    for key, (x, y) in sorted(d.items(), key=lambda item: item[1][1]):\n",
    "        print(f\"-{key}-, -{x}-, -{y}-\")\n",
    "    pass\n",
    "\n",
    "\n",
    "# Tests\n",
    "F({1 : (1, 2), 2 : (-1, 4), 5 : (-4, 3), 4 : (2, 3)})\n",
    "F({-8 : (4, 2), 6 : (-3, 4), 7 : (2, 1), 5 : (9, -10)})"
   ]
  },
  {
   "cell_type": "markdown",
   "metadata": {},
   "source": [
    "## 2 Working with Student Records\n",
    "\n",
    "Use the data in **student_records.csv** to complete the given tasks. Do not include any external libraries. Use a Python dictionary if required.\n",
    "\n",
    "### Reference\n",
    "- [Python Dictionaries](https://www.w3schools.com/python/python_dictionaries.asp)\n"
   ]
  },
  {
   "cell_type": "markdown",
   "metadata": {},
   "source": [
    "#### 2.a: open the student_records.csv file and print out the first 10 rows"
   ]
  },
  {
   "cell_type": "code",
   "execution_count": 3,
   "metadata": {},
   "outputs": [
    {
     "name": "stdout",
     "output_type": "stream",
     "text": [
      "   roll_number department  credit course_name      course_type grade\n",
      "0       588946         MA       3       EC250  hasmed_elective    AB\n",
      "1       145372         EP       4       EP407  hasmed_elective    CC\n",
      "2       834515         MA       8       EP885  hasmed_elective    BB\n",
      "3       344265        CSE       6      CSE699          honours    AB\n",
      "4       358405         MA       3       EE460            minor    AP\n",
      "5       781075         CE       8       CE540          honours    CC\n",
      "6       180828        CSE       6       CE880            minor    AB\n",
      "7       981238         MM       4      CSE226            minor    AB\n",
      "8       836881         MM       8       MM530             core    AA\n",
      "9       310604         EE       8       EE202             core    AB\n"
     ]
    }
   ],
   "source": [
    "import pandas as pd\n",
    "\n",
    "dt = pd.read_csv('student_records.csv')\n",
    "\n",
    "print(dt.head(10))"
   ]
  },
  {
   "cell_type": "markdown",
   "metadata": {},
   "source": [
    "#### 2.b: Print out the total credits and calculte CPI of each student. \n",
    "CPI is the weighted average of core courses, and electives (weights being the letter grades converted to number AP,AA=10, AB=9, BB=9, BC=7, CC=6)"
   ]
  },
  {
   "cell_type": "code",
   "execution_count": 4,
   "metadata": {},
   "outputs": [
    {
     "name": "stdout",
     "output_type": "stream",
     "text": [
      "             total_credits   CPI\n",
      "roll_number                     \n",
      "124663                 100  8.23\n",
      "138296                 114  7.99\n",
      "143142                 135  8.56\n",
      "143856                 122  8.49\n",
      "144528                 112  8.57\n",
      "...                    ...   ...\n",
      "981238                 120  8.28\n",
      "986057                 148  7.93\n",
      "993835                  99  8.42\n",
      "995208                  88  7.59\n",
      "998293                 150  8.56\n",
      "\n",
      "[100 rows x 2 columns]\n"
     ]
    }
   ],
   "source": [
    "\n",
    "grade_to_points = {\n",
    "    'AP': 10, 'AA': 10,\n",
    "    'AB': 9,\n",
    "    'BB': 8,\n",
    "    'BC': 7,\n",
    "    'CC': 6\n",
    "}\n",
    "dt_filtered = dt[dt['grade'].isin(grade_to_points.keys())]\n",
    "dt_filtered['grade_points'] = dt_filtered['grade'].map(grade_to_points)\n",
    "dt_filtered = dt_filtered[dt_filtered['course_type'] != 'minor']\n",
    "dt_filtered = dt_filtered[dt_filtered['course_type'] != 'alc']\n",
    "dt_filtered = dt_filtered[dt_filtered['course_type'] != 'honours']\n",
    "\n",
    "dt_grouped = dt_filtered.groupby('roll_number').agg(\n",
    "    total_credits=('credit', 'sum'),\n",
    "    weighted_grade_points=('grade_points', lambda x: (x * dt_filtered.loc[x.index, 'credit']).sum())\n",
    ")\n",
    "\n",
    "\n",
    "dt_grouped['CPI'] = dt_grouped['weighted_grade_points'] / dt_grouped['total_credits']\n",
    "dt_grouped['CPI'] = dt_grouped['CPI'].round(2)\n",
    "print(dt_grouped[['total_credits', 'CPI']])\n",
    "dt_grouped[['total_credits', 'CPI']].to_csv('student_cpi_results.csv')\n"
   ]
  },
  {
   "cell_type": "markdown",
   "metadata": {},
   "source": [
    "#### 2.c: Print out the names of all students who meet the graduation requirements \n",
    "Atleast 20 credist of core course, 15 credits of department elective, 10 credits of flexible elective and 5 credits of hasmed electives"
   ]
  },
  {
   "cell_type": "code",
   "execution_count": 5,
   "metadata": {},
   "outputs": [
    {
     "name": "stdout",
     "output_type": "stream",
     "text": [
      "roll_number  course_type        \n",
      "124663       core                   53\n",
      "             department_elective    22\n",
      "             felxible_elective      19\n",
      "             hasmed_elective         6\n",
      "138296       core                   14\n",
      "                                    ..\n",
      "995208       hasmed_elective        28\n",
      "998293       core                   24\n",
      "             department_elective    55\n",
      "             felxible_elective      31\n",
      "             hasmed_elective        40\n",
      "Name: credit, Length: 400, dtype: int64\n",
      "{571782, 608522, 960395, 572815, 144528, 836881, 879634, 588946, 461971, 283796, 781075, 998293, 681499, 928288, 143142, 970791, 391848, 630568, 294697, 381227, 703403, 787967, 782129, 500658, 750259, 888886, 845623, 608952, 716985, 482623, 881983, 203200, 265922, 871746, 581065, 986057, 310604, 517837, 159438, 626000, 721490, 207443, 327122, 488661, 834515, 379479, 180828, 692318, 773982, 581858, 973158, 150503, 362471, 388969, 534763, 485484, 955757, 810863, 143856, 628849, 282482, 971123, 981238, 124663, 214270, 521087}\n"
     ]
    }
   ],
   "source": [
    "course_types = {\n",
    "    'core': 'core',\n",
    "    'department_elective': 'department_elective',\n",
    "    'flexible_elective': 'flexible_elective',\n",
    "    'hasmed_elective': 'hasmed_elective'\n",
    "}\n",
    "\n",
    "\n",
    "dt_filtered = dt[dt['grade'].isin(grade_to_points.keys())]\n",
    "dt_filtered = dt_filtered[\n",
    "    (dt_filtered['course_type'] != 'minor') &\n",
    "    (dt_filtered['course_type'] != 'alc') &\n",
    "    (dt_filtered['course_type'] != 'honours')\n",
    "]\n",
    "\n",
    "dt_filtered = dt_filtered.sort_values(by=['roll_number', 'course_type'])\n",
    "\n",
    "\n",
    "dt_grouped = dt_filtered.groupby(by='roll_number')\n",
    "\n",
    "credits_by_course_type = dt_filtered.groupby(['roll_number', 'course_type'])['credit'].sum()\n",
    "\n",
    "print(credits_by_course_type)\n",
    "\n",
    "core_condition = credits_by_course_type.xs('core', level='course_type') >= 20\n",
    "department_elective_condition = credits_by_course_type.xs('department_elective', level='course_type') >= 15\n",
    "flexible_elective_condition = credits_by_course_type.xs('felxible_elective', level='course_type') >= 10\n",
    "hasmed_elective_condition = credits_by_course_type.xs('hasmed_elective', level='course_type') >= 5\n",
    "\n",
    "core_rolls = core_condition[core_condition].index\n",
    "department_rolls = department_elective_condition[department_elective_condition].index\n",
    "flexible_rolls = flexible_elective_condition[flexible_elective_condition].index\n",
    "hasmed_rolls = hasmed_elective_condition[hasmed_elective_condition].index\n",
    "\n",
    "core_rolls = core_rolls.get_level_values('roll_number').unique()\n",
    "department_rolls = department_rolls.get_level_values('roll_number').unique()\n",
    "flexible_rolls = flexible_rolls.get_level_values('roll_number').unique()\n",
    "hasmed_rolls = hasmed_rolls.get_level_values('roll_number').unique()\n",
    "\n",
    "valid_students = set(core_rolls) & set(department_rolls) & set(flexible_rolls) & set(hasmed_rolls)\n",
    "print(valid_students)\n"
   ]
  },
  {
   "cell_type": "markdown",
   "metadata": {},
   "source": [
    "#### 2.d: Print out the names of all students who completed a minor \n",
    "Atleast 10 credits with minor tag in a specific department"
   ]
  },
  {
   "cell_type": "code",
   "execution_count": 6,
   "metadata": {},
   "outputs": [
    {
     "name": "stdout",
     "output_type": "stream",
     "text": [
      "Index([124663, 138296, 143142, 143856, 144528, 145372, 150503, 159438, 180828,\n",
      "       194063, 199713, 203200, 207443, 208100, 214270, 265922, 270007, 282482,\n",
      "       283796, 294697, 301135, 327122, 329535, 344265, 358405, 362471, 364146,\n",
      "       379479, 381227, 381526, 388969, 391848, 458200, 461584, 461971, 465496,\n",
      "       478606, 482623, 485484, 488661, 500658, 517837, 521087, 534763, 571782,\n",
      "       572815, 581065, 581858, 582912, 588946, 597353, 608522, 608952, 613401,\n",
      "       626000, 628849, 630568, 680096, 681499, 692318, 703403, 716985, 718510,\n",
      "       721490, 733782, 750259, 773982, 775967, 781075, 782129, 787967, 788020,\n",
      "       810863, 816041, 834515, 836431, 836881, 841365, 845623, 847809, 851029,\n",
      "       871746, 879634, 881983, 888886, 907454, 955757, 960395, 970791, 971123,\n",
      "       973158, 981238, 986057, 993835, 995208, 998293],\n",
      "      dtype='int64', name='roll_number')\n"
     ]
    }
   ],
   "source": [
    "minor_courses = dt[dt['course_type'] == 'minor']\n",
    "\n",
    "minor_credits = minor_courses.groupby('roll_number')['credit'].sum()\n",
    "\n",
    "students_with_minor = minor_credits[minor_credits >= 10]\n",
    "\n",
    "print(students_with_minor.index)"
   ]
  },
  {
   "cell_type": "markdown",
   "metadata": {},
   "source": [
    "#### 2.e: Print out the names of all students who completed a honours\n",
    "Atleast 10 credits with honours tag and 20 core credits"
   ]
  },
  {
   "cell_type": "code",
   "execution_count": 7,
   "metadata": {},
   "outputs": [
    {
     "name": "stdout",
     "output_type": "stream",
     "text": [
      "Index([124663, 138296, 143142, 143856, 144528, 145372, 159438, 199713, 203200,\n",
      "       208100, 214270, 265922, 270007, 283796, 301135, 329535, 344265, 358405,\n",
      "       362471, 364146, 379479, 381227, 381526, 388969, 391848, 458200, 461584,\n",
      "       461971, 465496, 478606, 482623, 500658, 517837, 521087, 571782, 572815,\n",
      "       581065, 581858, 582912, 588946, 597353, 613401, 626000, 628849, 630568,\n",
      "       680096, 681499, 703403, 716985, 718510, 721490, 733782, 773982, 775967,\n",
      "       781075, 782129, 788020, 810863, 816041, 836431, 836881, 841365, 847809,\n",
      "       879634, 881983, 888886, 907454, 955757, 960395, 970791, 971123, 973158,\n",
      "       981238, 993835, 995208],\n",
      "      dtype='int64', name='roll_number')\n"
     ]
    }
   ],
   "source": [
    "minor_courses = dt[dt['course_type'] == 'minor']\n",
    "Honor_courses = dt[dt['course_type'] == 'honours']\n",
    "\n",
    "minor_credits = minor_courses.groupby('roll_number')['credit'].sum()\n",
    "honor_credits = Honor_courses.groupby('roll_number')['credit'].sum()\n",
    "\n",
    "students_with_minor = minor_credits[minor_credits >= 10]\n",
    "students_with_honor = honor_credits[minor_credits >= 20]\n",
    "\n",
    "students_with_both = students_with_minor.index.intersection(students_with_honor.index)\n",
    "\n",
    "print(students_with_both)"
   ]
  },
  {
   "cell_type": "markdown",
   "metadata": {},
   "source": [
    "# **SciPy** "
   ]
  },
  {
   "cell_type": "markdown",
   "metadata": {},
   "source": [
    "## Part A\n",
    "Minimize the function $f(x, y) = 2(x - y - 3)^2 + 4(x + 2y + 1)^4$.<br>\n",
    "With the constraints : $ x - y \\ge -3, (x + 2)^2 + (y + 1)^2 \\le 5$ <br>\n",
    "Using scipy.optimize.minimize with constraints. (Hint: Look at the examples in the official documentation)"
   ]
  },
  {
   "cell_type": "code",
   "execution_count": 8,
   "metadata": {},
   "outputs": [
    {
     "name": "stdout",
     "output_type": "stream",
     "text": [
      "Optimal solution found: x = 0.2349, y = -0.9285\n",
      "Minimum value of the objective function: f(x, y) = 7.3450\n"
     ]
    }
   ],
   "source": [
    "import numpy as np\n",
    "from scipy.optimize import minimize\n",
    "def objective(vars):\n",
    "    x, y = vars\n",
    "    return 2 * (x - y - 3) ** 2 + 4 * (x + 2 * y + 1) ** 4\n",
    "def constraint1(vars):\n",
    "    x, y = vars\n",
    "    return x - y + 3\n",
    "def constraint2(vars):\n",
    "    x, y = vars\n",
    "    return 5 - ((x + 2) ** 2 + (y + 1) ** 2)\n",
    "initial_guess = [0, 0]\n",
    "constraints = [\n",
    "    {'type': 'ineq', 'fun': constraint1},  # Linear inequality\n",
    "    {'type': 'ineq', 'fun': constraint2}   # Nonlinear inequality\n",
    "]\n",
    "result = minimize(objective, initial_guess, method='SLSQP', constraints=constraints)\n",
    "if result.success:\n",
    "    print(f\"Optimal solution found: x = {result.x[0]:.4f}, y = {result.x[1]:.4f}\")\n",
    "    print(f\"Minimum value of the objective function: f(x, y) = {result.fun:.4f}\")\n",
    "else:\n",
    "    print(\"Optimization failed:\", result.message)\n",
    "\n",
    "\n"
   ]
  },
  {
   "cell_type": "markdown",
   "metadata": {},
   "source": [
    "# Part B\n",
    "Evaluate the line integral of the function $f(x, y) = x^2 + y^4$ along the circle $ x^2 + y^2 = 3 $ anticlockwise (scalar integral, not vector). You must use scipy for integration but you may use parameterization"
   ]
  },
  {
   "cell_type": "code",
   "execution_count": 9,
   "metadata": {},
   "outputs": [
    {
     "data": {
      "text/plain": [
       "53.05363140385085"
      ]
     },
     "execution_count": 9,
     "metadata": {},
     "output_type": "execute_result"
    }
   ],
   "source": [
    "import numpy as np\n",
    "from scipy.integrate import quad\n",
    "\n",
    "# Function to integrate (parametrized form of f(x, y) * ds)\n",
    "def integrand(t):\n",
    "    x = np.sqrt(3) * np.cos(t)\n",
    "    y = np.sqrt(3) * np.sin(t)\n",
    "    ds = np.sqrt(3)  # sqrt((dx/dt)^2 + (dy/dt)^2)\n",
    "    return (x**2 + y**4) * ds\n",
    "\n",
    "# Integrate from 0 to 2*pi\n",
    "result, _ = quad(integrand, 0, 2 * np.pi)\n",
    "result\n"
   ]
  },
  {
   "cell_type": "markdown",
   "metadata": {},
   "source": [
    "# **Numpy**"
   ]
  },
  {
   "cell_type": "markdown",
   "metadata": {},
   "source": [
    "### Read Lisan_Al_Gaib.pdf for problem description and complete the following functions"
   ]
  },
  {
   "cell_type": "code",
   "execution_count": 10,
   "metadata": {},
   "outputs": [],
   "source": [
    "import time # to time the execution\n",
    "import numpy as np\n",
    "import matplotlib.pyplot as plt"
   ]
  },
  {
   "cell_type": "code",
   "execution_count": 11,
   "metadata": {},
   "outputs": [],
   "source": [
    "### TODO 1\n",
    "### Load data from data_path\n",
    "### Check the input file spice_locations.txt to understand the Data Format\n",
    "### Return : np array of size Nx2\n",
    "def load_data(data_path):\n",
    "    spice = np.loadtxt(data_path, delimiter=',')\n",
    "    return spice"
   ]
  },
  {
   "cell_type": "code",
   "execution_count": 12,
   "metadata": {},
   "outputs": [],
   "source": [
    "### TODO 2.1\n",
    "### If init_centers is None, initialize the centers by selecting K data points at random without replacement\n",
    "### Else, use the centers provided in init_centers\n",
    "### Return : np array of size Kx2\n",
    "def initialise_centers(data, K, init_centers):\n",
    "    if init_centers is None:\n",
    "        indices = np.random.choice(data.shape[0], K, replace=False)\n",
    "        centers = data[indices]\n",
    "    else:\n",
    "        centers = np.array(init_centers)\n",
    "\n",
    "    return centers"
   ]
  },
  {
   "cell_type": "code",
   "execution_count": 13,
   "metadata": {},
   "outputs": [],
   "source": [
    "### TODO 2.2\n",
    "### Initialize the labels to all ones to size (N,) where N is the number of data points\n",
    "### Return : np array of size N\n",
    "def initialise_labels(data):\n",
    "    N = data.shape[0]  # Number of data points\n",
    "    labels = np.ones(N, dtype=int)  # Initialize all labels to 1\n",
    "    return labels"
   ]
  },
  {
   "cell_type": "code",
   "execution_count": 14,
   "metadata": {},
   "outputs": [],
   "source": [
    "### TODO 3.1 : E step\n",
    "### For Each data point, find the distance to each center\n",
    "### Return : np array of size NxK\n",
    "def calculate_distances(data, centers):\n",
    "\n",
    "    N = data.shape[0]  # Number of data points\n",
    "    K = centers.shape[0]  # Number of cluster centers\n",
    "\n",
    "    distances = np.sqrt(((data[:, np.newaxis, :] - centers) ** 2).sum(axis=2))  # Shape (N, K)\n",
    "\n",
    "    return distances"
   ]
  },
  {
   "cell_type": "code",
   "execution_count": 15,
   "metadata": {},
   "outputs": [],
   "source": [
    "### TODO 3.2 : E step\n",
    "### For Each data point, assign the label of the nearest center\n",
    "### Return : np array of size N\n",
    "def update_labels(distances):\n",
    "    labels = np.argmin(distances, axis=1)\n",
    "    \n",
    "    return labels"
   ]
  },
  {
   "cell_type": "code",
   "execution_count": 16,
   "metadata": {},
   "outputs": [],
   "source": [
    "### TODO 4 : M step\n",
    "### Update the centers to the mean of the data points assigned to it\n",
    "### Return : np array of size Kx2\n",
    "def update_centers(data, labels, K):\n",
    "    centers = np.zeros((K, 2))\n",
    "    \n",
    "    for k in range(K):\n",
    "        points_in_cluster = data[labels == k]  # Select points assigned to cluster k\n",
    "        if len(points_in_cluster) > 0:\n",
    "            centers[k] = np.mean(points_in_cluster, axis=0)\n",
    "        else:\n",
    "            centers[k] = np.zeros((1, 2))  # Handle empty clusters by setting default to zero (can be customized)\n",
    "    \n",
    "    return centers"
   ]
  },
  {
   "cell_type": "code",
   "execution_count": 17,
   "metadata": {},
   "outputs": [],
   "source": [
    "### TODO 6 : Check convergence\n",
    "### Check if the labels have changed from the previous iteration\n",
    "### Return : True / False\n",
    "def check_termination(labels1, labels2):\n",
    "    return np.array_equal(labels1, labels2)"
   ]
  },
  {
   "cell_type": "code",
   "execution_count": 18,
   "metadata": {},
   "outputs": [],
   "source": [
    "### DON'T CHANGE ANYTHING IN THE FOLLOWING FUNCTION\n",
    "def kmeans(data_path:str, K:int, init_centers):\n",
    "    '''\n",
    "    Input :\n",
    "        data (type str): path to the file containing the data\n",
    "        K (type int): number of clusters\n",
    "        init_centers (type numpy.ndarray): initial centers. shape = (K, 2) or None\n",
    "    Output :\n",
    "        centers (type numpy.ndarray): final centers. shape = (K, 2)\n",
    "        labels (type numpy.ndarray): label of each data point. shape = (N,)\n",
    "        time (type float): time taken by the algorithm to converge in seconds\n",
    "    N is the number of data points each of shape (2,)\n",
    "    '''\n",
    "    data = load_data(data_path)    \n",
    "    centers = initialise_centers(data, K, init_centers)\n",
    "    labels = initialise_labels(data)\n",
    "\n",
    "    start_time = time.time() # Time stamp \n",
    "\n",
    "    while True:\n",
    "        distances = calculate_distances(data, centers)\n",
    "        labels_new = update_labels(distances)\n",
    "        centers = update_centers(data, labels_new, K)\n",
    "        if check_termination(labels, labels_new): break\n",
    "        else: labels = labels_new\n",
    " \n",
    "    end_time = time.time() # Time stamp after the algorithm ends\n",
    "    return centers, labels, end_time - start_time "
   ]
  },
  {
   "cell_type": "code",
   "execution_count": 19,
   "metadata": {},
   "outputs": [],
   "source": [
    "### TODO 7\n",
    "def visualise(data_path, labels, centers):\n",
    "    data = load_data(data_path)\n",
    "\n",
    "    plt.scatter(data[:, 0], data[:, 1], c=labels, s=50, cmap='viridis')\n",
    "    plt.scatter(centers[:, 0], centers[:, 1], c='black', s=200, alpha=0.5)\n",
    "\n",
    "    plt.scatter(centers[:, 0], centers[:, 1], c='black', s=200, alpha=0.5, label='Cluster Centers')\n",
    "\n",
    "    plt.title('K-means Clustering')\n",
    "    plt.xlabel('Longitude')\n",
    "    plt.ylabel('Latitude')\n",
    "\n",
    "    plt.legend()\n",
    "\n",
    "    plt.savefig('kmeans.png')\n",
    "\n",
    "    ## DO NOT CHANGE THE FOLLOWING LINE\n",
    "    return plt"
   ]
  },
  {
   "cell_type": "code",
   "execution_count": 20,
   "metadata": {},
   "outputs": [
    {
     "name": "stdout",
     "output_type": "stream",
     "text": [
      "Time taken for the algorithm to converge: 0.0\n"
     ]
    },
    {
     "data": {
      "text/plain": [
       "<module 'matplotlib.pyplot' from 'c:\\\\Users\\\\Aytnihca\\\\anaconda3\\\\Lib\\\\site-packages\\\\matplotlib\\\\pyplot.py'>"
      ]
     },
     "execution_count": 20,
     "metadata": {},
     "output_type": "execute_result"
    },
    {
     "data": {
      "image/png": "[encoded data removed]",
      "text/plain": [
       "<Figure size 640x480 with 1 Axes>"
      ]
     },
     "metadata": {},
     "output_type": "display_data"
    }
   ],
   "source": [
    "### After you have completed the above functions, run the following code to generate the plot\n",
    "data_path = 'spice_locations.txt'\n",
    "K, init_centers = 2, None\n",
    "centers, labels, time_taken = kmeans(data_path, K, init_centers)\n",
    "print('Time taken for the algorithm to converge:', time_taken)\n",
    "visualise(data_path, labels, centers)"
   ]
  }
 ],
 "metadata": {
  "kernelspec": {
   "display_name": "base",
   "language": "python",
   "name": "python3"
  },
  "language_info": {
   "codemirror_mode": {
    "name": "ipython",
    "version": 3
   },
   "file_extension": ".py",
   "mimetype": "text/x-python",
   "name": "python",
   "nbconvert_exporter": "python",
   "pygments_lexer": "ipython3",
   "version": "3.12.4"
  }
 },
 "nbformat": 4,
 "nbformat_minor": 2
}
